{
 "cells": [
  {
   "cell_type": "code",
   "execution_count": 2,
   "id": "7c7c8926-79c7-499f-b15a-f1ba84296b4d",
   "metadata": {},
   "outputs": [
    {
     "name": "stdin",
     "output_type": "stream",
     "text": [
      "Enter a word:  pogi\n"
     ]
    },
    {
     "name": "stdout",
     "output_type": "stream",
     "text": [
      "giop\n"
     ]
    }
   ],
   "source": [
    "#ALPHABET SOUP PROBLEM: Create a function that takes a string and returns a string with its letters in alphabetical order.\n",
    "def alphabet_soup():\n",
    "    # Ask the user for input\n",
    "    s = input(\"Enter a word: \")\n",
    "    \n",
    "    # Sort the letters of the word in alphabetical order\n",
    "    sorted_string = ''.join(sorted(s))\n",
    "    \n",
    "    # Return the sorted string\n",
    "    return sorted_string\n",
    "\n",
    "# Example usage with user input:\n",
    "print(alphabet_soup())"
   ]
  },
  {
   "cell_type": "code",
   "execution_count": 10,
   "id": "56c964f7-df59-4e34-ac35-58c704245618",
   "metadata": {},
   "outputs": [
    {
     "name": "stdout",
     "output_type": "stream",
     "text": [
      "I am >:(\n",
      "Make me :)\n"
     ]
    }
   ],
   "source": [
    "\n",
    "def emotify(sentence):\n",
    "    # Dictionary mapping words to emoticons\n",
    "    emoticon_dict = {\n",
    "        \"smile\": \":)\",\n",
    "        \"grin\": \":D\",\n",
    "        \"sad\": \":((\",\n",
    "        \"mad\": \">:(\"\n",
    "    }\n",
    "    \n",
    "    # Split the sentence into words\n",
    "    words = sentence.split()\n",
    "    \n",
    "    # Replace words in the sentence with corresponding emoticons\n",
    "    result = ' '.join([emoticon_dict.get(word.lower(), word) for word in words])\n",
    "    \n",
    "    return result\n",
    "\n",
    "# Example usage\n",
    "print(emotify(\"I am mad\"))       # Output: I am >:(\n",
    "print(emotify(\"Make me smile\"))  # Output: Make me :)\n"
   ]
  },
  {
   "cell_type": "code",
   "execution_count": null,
   "id": "0cd2a69c-bd8b-45e8-9fc9-1b3f47dfbf14",
   "metadata": {},
   "outputs": [],
   "source": [
    "#UNPACKING LIST PROBLEM: Unpack the list writeyourcodehere into three variables, being first,\n",
    "#middle, and last, with middle being everything in between the first and last element. Then print all three\n",
    "#variables.\n",
    "def unpack_list():\n",
    "    # Get the number of elements from the user\n",
    "    n = int(input(\"Enter the number of elements in the list: \"))\n",
    "    \n",
    "    # Get the list of elements from the user\n",
    "    lst = []\n",
    "    for i in range(n):\n",
    "        element = int(input(f\"Enter element {i+1}: \"))\n",
    "        lst.append(element)\n",
    "    \n",
    "    # Ensure the list has at least two elements to unpack\n",
    "    if len(lst) < 2:\n",
    "        print(\"The list must have at least two elements!\")\n",
    "        return\n",
    "    \n",
    "    # Unpack the first element, everything in between (middle), and the last element\n",
    "    first, *middle, last = lst\n",
    "    \n",
    "    # Print the three variables\n",
    "    print(f\"first: {first}\")\n",
    "    print(f\"middle: {middle}\")\n",
    "    print(f\"last: {last}\")\n",
    "\n",
    "# Example usage\n",
    "unpack_list()"
   ]
  },
  {
   "cell_type": "code",
   "execution_count": null,
   "id": "9e90444c-0950-4784-93fd-fd5a1e1ec93c",
   "metadata": {},
   "outputs": [],
   "source": [
    "5"
   ]
  },
  {
   "cell_type": "code",
   "execution_count": null,
   "id": "94244b4d-8f27-434f-be7c-e11c53981a7f",
   "metadata": {},
   "outputs": [],
   "source": []
  }
 ],
 "metadata": {
  "kernelspec": {
   "display_name": "Python 3 (ipykernel)",
   "language": "python",
   "name": "python3"
  },
  "language_info": {
   "codemirror_mode": {
    "name": "ipython",
    "version": 3
   },
   "file_extension": ".py",
   "mimetype": "text/x-python",
   "name": "python",
   "nbconvert_exporter": "python",
   "pygments_lexer": "ipython3",
   "version": "3.12.4"
  }
 },
 "nbformat": 4,
 "nbformat_minor": 5
}
